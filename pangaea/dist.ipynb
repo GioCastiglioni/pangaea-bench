{
 "cells": [
  {
   "cell_type": "code",
   "execution_count": 39,
   "id": "224e5b74",
   "metadata": {},
   "outputs": [],
   "source": [
    "import geopandas as gpd\n",
    "import pandas as pd\n",
    "import numpy as np\n",
    "import torch"
   ]
  },
  {
   "cell_type": "code",
   "execution_count": 40,
   "id": "7674bf57",
   "metadata": {},
   "outputs": [],
   "source": [
    "root_path=\"/home/gcast/datasets/PASTIS-HD/\"\n",
    "folds = [1,2,3]\n",
    "meta_patch = gpd.read_file(root_path + \"metadata.geojson\")\n",
    "meta_patch = pd.concat(\n",
    "                [meta_patch[meta_patch[\"Fold\"] == f] for f in folds]\n",
    "            )"
   ]
  },
  {
   "cell_type": "code",
   "execution_count": 41,
   "id": "14a84f2e",
   "metadata": {},
   "outputs": [],
   "source": [
    "classes = {str(i): 0 for i in range(20)}\n",
    "total = 0\n",
    "for idx in range(len(meta_patch)):\n",
    "    line = meta_patch.iloc[idx]\n",
    "    name = line[\"ID_PATCH\"]\n",
    "    label = torch.from_numpy(\n",
    "                np.load(root_path + \"ANNOTATIONS/TARGET_\" + str(name) + \".npy\")[0].astype(np.int32)\n",
    "            )\n",
    "    \n",
    "    for i in range(20):\n",
    "        num = torch.where(label == i,True,False).sum()\n",
    "        classes[str(i)] += num\n",
    "        total += num"
   ]
  },
  {
   "cell_type": "code",
   "execution_count": null,
   "id": "0cac215f",
   "metadata": {},
   "outputs": [],
   "source": [
    "for key, v in classes.items():\n",
    "    classes[key] = v.item()/total"
   ]
  },
  {
   "cell_type": "code",
   "execution_count": 45,
   "id": "b62e279c",
   "metadata": {},
   "outputs": [
    {
     "data": {
      "text/plain": [
       "{'0': 0.39963802695274353,\n",
       " '1': 0.1818588376045227,\n",
       " '2': 0.06680933386087418,\n",
       " '3': 0.08988720923662186,\n",
       " '4': 0.01995879039168358,\n",
       " '5': 0.01754477620124817,\n",
       " '6': 0.00610867515206337,\n",
       " '7': 0.009342741221189499,\n",
       " '8': 0.02943803183734417,\n",
       " '9': 0.007811283692717552,\n",
       " '10': 0.007625870872288942,\n",
       " '11': 0.010959019884467125,\n",
       " '12': 0.009674050845205784,\n",
       " '13': 0.0029059865046292543,\n",
       " '14': 0.0156816728413105,\n",
       " '15': 0.011744464747607708,\n",
       " '16': 0.01093984954059124,\n",
       " '17': 0.004812716506421566,\n",
       " '18': 0.0034249741584062576,\n",
       " '19': 0.09383368492126465}"
      ]
     },
     "execution_count": 45,
     "metadata": {},
     "output_type": "execute_result"
    }
   ],
   "source": [
    "classes"
   ]
  },
  {
   "cell_type": "code",
   "execution_count": 46,
   "id": "dfccaec5",
   "metadata": {},
   "outputs": [
    {
     "data": {
      "text/plain": [
       "0.9999999969732016"
      ]
     },
     "execution_count": 46,
     "metadata": {},
     "output_type": "execute_result"
    }
   ],
   "source": [
    "a = 0\n",
    "for _, v in classes.items():\n",
    "    a+= v\n",
    "a"
   ]
  },
  {
   "cell_type": "code",
   "execution_count": null,
   "id": "bf6b33c3",
   "metadata": {},
   "outputs": [],
   "source": []
  }
 ],
 "metadata": {
  "kernelspec": {
   "display_name": "python3.11",
   "language": "python",
   "name": "python3.11"
  },
  "language_info": {
   "codemirror_mode": {
    "name": "ipython",
    "version": 3
   },
   "file_extension": ".py",
   "mimetype": "text/x-python",
   "name": "python",
   "nbconvert_exporter": "python",
   "pygments_lexer": "ipython3",
   "version": "3.10.16"
  }
 },
 "nbformat": 4,
 "nbformat_minor": 5
}
